{
 "cells": [
  {
   "cell_type": "markdown",
   "metadata": {},
   "source": [
    "# Лабораторная работа 1. Язык Python, основные библиотеки для анализа данных."
   ]
  },
  {
   "cell_type": "markdown",
   "metadata": {},
   "source": [
    "ФИО: Илларионова Светлана Владимировна\n",
    "\n",
    "Группа: 317"
   ]
  },
  {
   "cell_type": "code",
   "execution_count": 1,
   "metadata": {
    "collapsed": false
   },
   "outputs": [],
   "source": [
    "import numpy as np\n",
    "import pandas as pd"
   ]
  },
  {
   "cell_type": "markdown",
   "metadata": {},
   "source": [
    "## Часть 1: Python"
   ]
  },
  {
   "cell_type": "markdown",
   "metadata": {},
   "source": [
    "#### 1. Напишите код, который сформирует список всех натуральных чисел, не превосходящих 100, которые делятся на 7 и не делятся на 5. Нельзя использовать циклы — выполните это задание с помощью list comprehension."
   ]
  },
  {
   "cell_type": "code",
   "execution_count": 8,
   "metadata": {
    "collapsed": false
   },
   "outputs": [
    {
     "data": {
      "text/plain": [
       "[7, 14, 21, 28, 42, 49, 56, 63, 77, 84, 91, 98]"
      ]
     },
     "execution_count": 8,
     "metadata": {},
     "output_type": "execute_result"
    }
   ],
   "source": [
    "[c for c in range(1, 101) if ((c % 7 == 0) and (c % 5 != 0))]"
   ]
  },
  {
   "cell_type": "markdown",
   "metadata": {},
   "source": [
    "#### 2. Напишите функцию `sort_tokens(s)`, которая принимает на вход строку, разделяет ее на токены по запятым, сортирует токены с помощью функции `sorted()` и снова соединяет их в одну строку через запятые. Например, для строки `u\"ночь,фонарь,улица\"` функция должна выдать `u\"ночь,улица,фонарь\"`. Придумайте несколько входных строк и протестируйте функцию на них."
   ]
  },
  {
   "cell_type": "markdown",
   "metadata": {},
   "source": [
    "Обратите внимание, что склеить строки можно с помощью конструкции `'x'.join(...)`. Например:"
   ]
  },
  {
   "cell_type": "code",
   "execution_count": 2,
   "metadata": {
    "collapsed": false
   },
   "outputs": [
    {
     "data": {
      "text/plain": [
       "'i! am! very! excited! :-)'"
      ]
     },
     "execution_count": 2,
     "metadata": {},
     "output_type": "execute_result"
    }
   ],
   "source": [
    "'! '.join(['i', 'am', 'very', 'excited', ':-)'])"
   ]
  },
  {
   "cell_type": "code",
   "execution_count": 13,
   "metadata": {
    "collapsed": false
   },
   "outputs": [
    {
     "name": "stdout",
     "output_type": "stream",
     "text": [
      "ночь,улица,фонарь\n"
     ]
    }
   ],
   "source": [
    "def sort_tokens(s):\n",
    "    return \",\".join(sorted(s.split(',')))\n",
    "    \n",
    "print sort_tokens(u\"ночь,фонарь,улица\");"
   ]
  },
  {
   "cell_type": "markdown",
   "metadata": {},
   "source": [
    "#### 3. Напишите функцию `remove_duplicates(a)`, которая принимает на вход список и возвращает его же, но без дубликатов и в отсортированном виде. Например, для списка `[u\"ночь\", u\"улица\", u\"фонарь\", u\"аптека\", u\"аптека\", u\"улица\", u\"фонарь\"]` результат должен быть `[u\"аптека\", u\"ночь\", u\"улица\", u\"фонарь\", ]`."
   ]
  },
  {
   "cell_type": "markdown",
   "metadata": {},
   "source": [
    "Подсказка: обратите внимание на структуру `set`!"
   ]
  },
  {
   "cell_type": "code",
   "execution_count": 20,
   "metadata": {
    "collapsed": false
   },
   "outputs": [
    {
     "name": "stdout",
     "output_type": "stream",
     "text": [
      "аптека ночь улица фонарь\n"
     ]
    }
   ],
   "source": [
    "def remove_duplicates(a):\n",
    "    return list(sorted(set(a)))\n",
    "\n",
    "for i in remove_duplicates( [u\"ночь\", u\"улица\", u\"фонарь\", u\"аптека\", u\"аптека\", u\"улица\", u\"фонарь\"]):\n",
    "    print i, "
   ]
  },
  {
   "cell_type": "markdown",
   "metadata": {},
   "source": [
    "#### 4. Напишите функцию `word_counts(texts)`, которая принимает на вход список строк, и печатает пары (слово, число вхождений). Считайте, что слова в текстах могут быть разделены только пробелами. Например, для входа `[u'ночь улица фонарь аптека', u'аптека улица фонарь']` должно быть напечатано\n",
    ">аптека 2\n",
    "\n",
    ">улица 2\n",
    "\n",
    ">фонарь 2\n",
    "\n",
    ">ночь 1"
   ]
  },
  {
   "cell_type": "markdown",
   "metadata": {},
   "source": [
    "Подсказки:\n",
    "\n",
    "Чтобы разбить каждый из текстов на слова, воспользуйтесь функцией `map`, которая применяет заданную функцию к каждому элементу списка. Например, если бы нужно было каждый из текстов привести к нижнему регистру, то команда выглядела бы так:"
   ]
  },
  {
   "cell_type": "code",
   "execution_count": 3,
   "metadata": {
    "collapsed": false
   },
   "outputs": [
    {
     "data": {
      "text/plain": [
       "['abcdefg', 'hijkl']"
      ]
     },
     "execution_count": 3,
     "metadata": {},
     "output_type": "execute_result"
    }
   ],
   "source": [
    "map(lambda x: x.lower(), [\"abCDefg\", \"HIjkL\"])"
   ]
  },
  {
   "cell_type": "markdown",
   "metadata": {},
   "source": [
    "После первого шага вы получите список, состоящий из списков слов. Чтобы объединить их в один список слов, воспользуйтесь функцией `reduce`. Например, просуммировать числа из списка с ее помощью можно так:\n",
    "\n"
   ]
  },
  {
   "cell_type": "code",
   "execution_count": 4,
   "metadata": {
    "collapsed": false
   },
   "outputs": [
    {
     "data": {
      "text/plain": [
       "15"
      ]
     },
     "execution_count": 4,
     "metadata": {},
     "output_type": "execute_result"
    }
   ],
   "source": [
    "reduce(lambda x, y: x + y, [1, 2, 3, 4, 5])"
   ]
  },
  {
   "cell_type": "markdown",
   "metadata": {},
   "source": [
    "Для подсчета количества вхождений слов воспользуйтесь структурой `defaultdict` из модуля `collections`. В отличие от обычного `dict`, она не генерирует ошибку при обращении к несуществущему ключу, а создает новую запись, инициализируемую нулевым значением. Например:"
   ]
  },
  {
   "cell_type": "code",
   "execution_count": 5,
   "metadata": {
    "collapsed": false
   },
   "outputs": [
    {
     "name": "stdout",
     "output_type": "stream",
     "text": [
      "defaultdict(<type 'int'>, {})\n",
      "defaultdict(<type 'int'>, {'abc': 1})\n",
      "defaultdict(<type 'int'>, {'xxx': 0, 'abc': 1})\n"
     ]
    }
   ],
   "source": [
    "from collections import defaultdict\n",
    "d = defaultdict(int)\n",
    "print d\n",
    "d['abc'] += 1\n",
    "print d\n",
    "d['xxx']\n",
    "print d"
   ]
  },
  {
   "cell_type": "code",
   "execution_count": 26,
   "metadata": {
    "collapsed": false
   },
   "outputs": [
    {
     "name": "stdout",
     "output_type": "stream",
     "text": [
      "аптека 2\n",
      "улица 2\n",
      "фонарь 2\n",
      "ночь 1\n"
     ]
    }
   ],
   "source": [
    "from collections import defaultdict\n",
    "\n",
    "def word_counts(texts):\n",
    "    d = defaultdict(int)\n",
    "    for i in reduce(lambda x,y: x + y, map(lambda x: x.split(\" \"), texts)):\n",
    "        d[i] = d[i] + 1\n",
    "    for i in d:\n",
    "        print i, d[i]\n",
    "    \n",
    "word_counts( [u'ночь улица фонарь аптека', u'аптека улица фонарь'] )"
   ]
  },
  {
   "cell_type": "markdown",
   "metadata": {},
   "source": [
    "#### 5. (бонусное задание) Скачайте английский перевод \"Преступления и наказания\". Найдите 20 самых популярных слов и 20 слов, которые встречаются только один раз."
   ]
  },
  {
   "cell_type": "markdown",
   "metadata": {},
   "source": [
    "Приведите текст к нижнему регистру. Разделите текст на слова, считая разделителями все, кроме букв. Обратите внимание на функцию `split` из модуля `re`.\n",
    "\n",
    "Не забудьте удалить пустые слова:\n",
    "```\n",
    "words = filter(lambda x: len(x) > 0, words)\n",
    "```"
   ]
  },
  {
   "cell_type": "code",
   "execution_count": 77,
   "metadata": {
    "collapsed": false
   },
   "outputs": [],
   "source": [
    "from urllib import urlopen\n",
    "url = \"http://www.gutenberg.org/files/2554/2554.txt\"\n",
    "response = urlopen(url)\n",
    "raw_text = response.read().decode('utf8')"
   ]
  },
  {
   "cell_type": "code",
   "execution_count": 78,
   "metadata": {
    "collapsed": false
   },
   "outputs": [
    {
     "data": {
      "text/plain": [
       "u'r five\\r\\nchildren in only two rooms. The father and mother spent their evenings\\r\\nin reading aloud to '"
      ]
     },
     "execution_count": 78,
     "metadata": {},
     "output_type": "execute_result"
    }
   ],
   "source": [
    "raw_text[1000:1100]"
   ]
  },
  {
   "cell_type": "code",
   "execution_count": 80,
   "metadata": {
    "collapsed": false
   },
   "outputs": [
    {
     "name": "stdout",
     "output_type": "stream",
     "text": [
      "[(u'the', 7995), (u'and', 7042), (u'to', 5493), (u'he', 4892), (u'a', 4665), (u'i', 4402), (u'you', 4114), (u'of', 3926), (u'it', 3460), (u'that', 3294), (u'in', 3250), (u'was', 2826), (u'his', 2114), (u'at', 2082), (u'her', 1828), (u'but', 1801), (u'not', 1774), (u's', 1765), (u'with', 1757), (u'she', 1692)]\n",
      "[(u'bereaved', 1), (u'sash', 1), (u'upwards', 1), (u'june', 1), (u'transfigured', 1), (u'bombarding', 1), (u'gnawing', 1), (u'unfolding', 1), (u'rickety', 1), (u'venetian', 1), (u'rigamarole', 1), (u'tactics', 1), (u'deuce', 1), (u'funds', 1), (u'uncontrollable', 1), (u'faithfully', 1), (u'noxious', 1), (u'sabre', 1), (u'fawning', 1), (u'this_', 1)]\n"
     ]
    }
   ],
   "source": [
    "from collections import defaultdict\n",
    "import re\n",
    "d = defaultdict(int)\n",
    "s = re.split('\\W+', raw_text.lower())\n",
    "for i in s:\n",
    "    if len(i) > 0:\n",
    "        d[i] = d[i] + 1\n",
    "d = sorted(d.iteritems(), key=lambda(k, v): v, reverse=True)\n",
    "print d[:20]\n",
    "print list(reversed(d))[:20]"
   ]
  },
  {
   "cell_type": "markdown",
   "metadata": {},
   "source": [
    "## Часть 2: NumPy и SciPy"
   ]
  },
  {
   "cell_type": "markdown",
   "metadata": {},
   "source": [
    "#### 1. Повторите 1000 раз следующий эксперимент: сгенерируйте две матрицы размера $10 \\times 10$ из стандартного нормального распределения, перемножьте их (как матрицы) и найдите максимальный элемент. Какое среднее значение по экспериментам у максимальных элементов? 95-процентная квантиль?"
   ]
  },
  {
   "cell_type": "markdown",
   "metadata": {},
   "source": [
    "Для вычисления квантили воспользуйтесь функцией `np.percentile`"
   ]
  },
  {
   "cell_type": "code",
   "execution_count": 47,
   "metadata": {
    "collapsed": false
   },
   "outputs": [
    {
     "name": "stdout",
     "output_type": "stream",
     "text": [
      "8.39275587154 11.8674501326\n"
     ]
    }
   ],
   "source": [
    "d = np.array([])\n",
    "for i in range(1000):\n",
    "    a = np.random.normal(size=100).reshape(10, 10)\n",
    "    b = np.random.normal(size=100).reshape(10, 10)\n",
    "    c = np.dot(a, b)\n",
    "    d = np.append(d, c.max())\n",
    "print np.average(d), np.percentile(d, 95)"
   ]
  },
  {
   "cell_type": "markdown",
   "metadata": {},
   "source": [
    "#### 2. Сгенерируйте 1000 чисел из распределения Пуассона с параметром $\\lambda = 5$. Сформируйте массив, в котором в i-м элементе будет записано количество сгенерированных чисел, равных i."
   ]
  },
  {
   "cell_type": "markdown",
   "metadata": {},
   "source": [
    "Обратите внимание на функцию `np.bincount`"
   ]
  },
  {
   "cell_type": "code",
   "execution_count": 51,
   "metadata": {
    "collapsed": false
   },
   "outputs": [
    {
     "data": {
      "text/plain": [
       "array([  8,  35,  81, 145, 153, 199, 151, 102,  70,  26,  21,   8,   1])"
      ]
     },
     "execution_count": 51,
     "metadata": {},
     "output_type": "execute_result"
    }
   ],
   "source": [
    "np.bincount(np.random.poisson(5, 1000))"
   ]
  },
  {
   "cell_type": "markdown",
   "metadata": {},
   "source": [
    "#### 3. Реализуйте функцию, которая принимает на вход numpy-массив целых чисел `a`, и генерирует массив, в котором число `i` встречается `a[i]` раз. Протестируйте на результате из прошлого задания."
   ]
  },
  {
   "cell_type": "markdown",
   "metadata": {},
   "source": [
    "Обратите внимание на функцию `np.repeat`"
   ]
  },
  {
   "cell_type": "code",
   "execution_count": 56,
   "metadata": {
    "collapsed": false
   },
   "outputs": [
    {
     "name": "stdout",
     "output_type": "stream",
     "text": [
      "[ 0  0  0  0  0  0  0  0  1  1  1  1  1  1  1  1  1  1  1  1  1  1  1  1  1\n",
      "  1  1  1  1  1  1  1  1  1  1  1  1  1  1  1  1  1  1  2  2  2  2  2  2  2\n",
      "  2  2  2  2  2  2  2  2  2  2  2  2  2  2  2  2  2  2  2  2  2  2  2  2  2\n",
      "  2  2  2  2  2  2  2  2  2  2  2  2  2  2  2  2  2  2  2  2  2  2  2  2  2\n",
      "  2  2  2  2  2  2  2  2  2  2  2  2  2  2  2  2  2  2  2  2  2  2  2  2  3\n",
      "  3  3  3  3  3  3  3  3  3  3  3  3  3  3  3  3  3  3  3  3  3  3  3  3  3\n",
      "  3  3  3  3  3  3  3  3  3  3  3  3  3  3  3  3  3  3  3  3  3  3  3  3  3\n",
      "  3  3  3  3  3  3  3  3  3  3  3  3  3  3  3  3  3  3  3  3  3  3  3  3  3\n",
      "  3  3  3  3  3  3  3  3  3  3  3  3  3  3  3  3  3  3  3  3  3  3  3  3  3\n",
      "  3  3  3  3  3  3  3  3  3  3  3  3  3  3  3  3  3  3  3  3  3  3  3  3  3\n",
      "  3  3  3  3  3  3  3  3  3  3  3  3  3  3  3  3  3  3  3  4  4  4  4  4  4\n",
      "  4  4  4  4  4  4  4  4  4  4  4  4  4  4  4  4  4  4  4  4  4  4  4  4  4\n",
      "  4  4  4  4  4  4  4  4  4  4  4  4  4  4  4  4  4  4  4  4  4  4  4  4  4\n",
      "  4  4  4  4  4  4  4  4  4  4  4  4  4  4  4  4  4  4  4  4  4  4  4  4  4\n",
      "  4  4  4  4  4  4  4  4  4  4  4  4  4  4  4  4  4  4  4  4  4  4  4  4  4\n",
      "  4  4  4  4  4  4  4  4  4  4  4  4  4  4  4  4  4  4  4  4  4  4  4  4  4\n",
      "  4  4  4  4  4  4  4  4  4  4  4  4  4  4  4  4  4  4  4  4  4  4  5  5  5\n",
      "  5  5  5  5  5  5  5  5  5  5  5  5  5  5  5  5  5  5  5  5  5  5  5  5  5\n",
      "  5  5  5  5  5  5  5  5  5  5  5  5  5  5  5  5  5  5  5  5  5  5  5  5  5\n",
      "  5  5  5  5  5  5  5  5  5  5  5  5  5  5  5  5  5  5  5  5  5  5  5  5  5\n",
      "  5  5  5  5  5  5  5  5  5  5  5  5  5  5  5  5  5  5  5  5  5  5  5  5  5\n",
      "  5  5  5  5  5  5  5  5  5  5  5  5  5  5  5  5  5  5  5  5  5  5  5  5  5\n",
      "  5  5  5  5  5  5  5  5  5  5  5  5  5  5  5  5  5  5  5  5  5  5  5  5  5\n",
      "  5  5  5  5  5  5  5  5  5  5  5  5  5  5  5  5  5  5  5  5  5  5  5  5  5\n",
      "  5  5  5  5  5  5  5  5  5  5  5  5  5  5  5  5  5  5  5  5  5  6  6  6  6\n",
      "  6  6  6  6  6  6  6  6  6  6  6  6  6  6  6  6  6  6  6  6  6  6  6  6  6\n",
      "  6  6  6  6  6  6  6  6  6  6  6  6  6  6  6  6  6  6  6  6  6  6  6  6  6\n",
      "  6  6  6  6  6  6  6  6  6  6  6  6  6  6  6  6  6  6  6  6  6  6  6  6  6\n",
      "  6  6  6  6  6  6  6  6  6  6  6  6  6  6  6  6  6  6  6  6  6  6  6  6  6\n",
      "  6  6  6  6  6  6  6  6  6  6  6  6  6  6  6  6  6  6  6  6  6  6  6  6  6\n",
      "  6  6  6  6  6  6  6  6  6  6  6  6  6  6  6  6  6  6  6  6  6  6  7  7  7\n",
      "  7  7  7  7  7  7  7  7  7  7  7  7  7  7  7  7  7  7  7  7  7  7  7  7  7\n",
      "  7  7  7  7  7  7  7  7  7  7  7  7  7  7  7  7  7  7  7  7  7  7  7  7  7\n",
      "  7  7  7  7  7  7  7  7  7  7  7  7  7  7  7  7  7  7  7  7  7  7  7  7  7\n",
      "  7  7  7  7  7  7  7  7  7  7  7  7  7  7  7  7  7  7  7  7  7  7  7  7  8\n",
      "  8  8  8  8  8  8  8  8  8  8  8  8  8  8  8  8  8  8  8  8  8  8  8  8  8\n",
      "  8  8  8  8  8  8  8  8  8  8  8  8  8  8  8  8  8  8  8  8  8  8  8  8  8\n",
      "  8  8  8  8  8  8  8  8  8  8  8  8  8  8  8  8  8  8  8  9  9  9  9  9  9\n",
      "  9  9  9  9  9  9  9  9  9  9  9  9  9  9  9  9  9  9  9  9 10 10 10 10 10\n",
      " 10 10 10 10 10 10 10 10 10 10 10 10 10 10 10 10 11 11 11 11 11 11 11 11 12]\n"
     ]
    }
   ],
   "source": [
    "def c(a):\n",
    "    return np.repeat(np.arange(len(a)), a)\n",
    "\n",
    "print c(np.array([  8,  35,  81, 145, 153, 199, 151, 102,  70,  26,  21,   8,   1]))"
   ]
  },
  {
   "cell_type": "markdown",
   "metadata": {},
   "source": [
    "#### 4. Напишите функцию `scale(X)`, которая принимает на вход матрицу и масштабирует каждый ее столбец (вычитает среднее и делит на стандартное отклонение). Убедитесь, что в функции не будет происходить деления на ноль. Протестируйте на каких-нибудь данных."
   ]
  },
  {
   "cell_type": "code",
   "execution_count": 73,
   "metadata": {
    "collapsed": false
   },
   "outputs": [],
   "source": [
    "def scale(X):\n",
    "    Y = np.transpose(X.astype(float))\n",
    "    for i in range(len(Y)):\n",
    "        c = np.average(Y[i])\n",
    "        Y[i] = Y[i] - c\n",
    "        d = np.std(Y[i])\n",
    "        if ( d != 0):\n",
    "            Y[i] = Y[i] / d\n",
    "    return np.transpose(Y)\n"
   ]
  },
  {
   "cell_type": "markdown",
   "metadata": {},
   "source": [
    "#### 5. Сгенерируйте матрицу с элементами из нормального распределения $\\mathcal{N}(10, 1)$. Найдите ее:\n",
    "- определитель\n",
    "- след\n",
    "- наименьший и наибольший элементы\n",
    "- спектральную норму\n",
    "- норму Фробениуса\n",
    "- собственные числа\n",
    "- обратную матрицу"
   ]
  },
  {
   "cell_type": "code",
   "execution_count": 76,
   "metadata": {
    "collapsed": false
   },
   "outputs": [
    {
     "name": "stdout",
     "output_type": "stream",
     "text": [
      "-8922.18431092\n",
      "100.58158769\n",
      "7.70860380089\n",
      "12.8401177393\n",
      "100.567782437\n",
      "100.972832019\n",
      "[ 100.49940022+0.j           -3.87387315+0.j            3.21109878+0.j\n",
      "    0.42920941+2.16778284j    0.42920941-2.16778284j\n",
      "   -1.33655621+0.94474361j   -1.33655621-0.94474361j\n",
      "    1.13139291+0.74669332j    1.13139291-0.74669332j    0.29686963+0.j        ]\n",
      "[[ 0.02193325 -0.56003057 -0.5054095   0.11532704 -0.16543007  0.09609385\n",
      "  -0.16284772  0.61145696  0.50783544  0.0373741 ]\n",
      " [ 0.29196969  0.36631145 -0.01330044 -0.39812933 -0.12626197 -0.28135086\n",
      "  -0.1479448   0.29317947  0.27447151 -0.2457106 ]\n",
      " [ 0.11763633  0.27662219  0.29924182 -0.51040304 -0.31314788 -0.91055332\n",
      "  -0.20486717  1.14725758  0.91125531 -0.84530443]\n",
      " [-0.05095498 -0.15177063  0.13239928 -0.22923432 -0.18203902  0.14986531\n",
      "   0.03111021  0.20672871  0.16427852 -0.07993592]\n",
      " [-0.83169702  0.48883267  0.33089341  0.58532985  0.76412259  1.6396113\n",
      "   1.05779909 -2.80014884 -1.91273197  0.79675339]\n",
      " [-1.29338315  0.34330023 -0.45750864  1.12339325  1.2960274   2.49903044\n",
      "   1.04468438 -3.32030218 -3.10044095  2.08298061]\n",
      " [ 0.49099889 -0.01229228  0.10352114 -0.30789389 -0.1833401  -0.5892766\n",
      "  -0.02899026  0.41878456  0.36054468 -0.27913268]\n",
      " [-0.09423468  0.03280894 -0.01153749  0.0929077   0.26855129  0.12540868\n",
      "  -0.09500678 -0.16529031 -0.22984151  0.10452735]\n",
      " [ 0.32382468 -0.26162011  0.2045426  -0.07772609 -0.49327763 -1.30479074\n",
      "  -0.6063      1.35297948  1.31803935 -0.54771397]\n",
      " [ 1.00590559 -0.44666544 -0.04293795 -0.40090438 -0.80873364 -1.36315921\n",
      "  -0.8257965   2.14655612  1.63250621 -1.00412262]]\n"
     ]
    }
   ],
   "source": [
    "X = np.random.normal(10, 1, 100).reshape(10, 10)\n",
    "print np.linalg.det(X)\n",
    "print np.matrix.trace(X)\n",
    "print X.min()\n",
    "print X.max()\n",
    "print np.linalg.norm(X, 2)\n",
    "print np.linalg.norm(X)\n",
    "print np.linalg.eig(X)[0]\n",
    "print np.linalg.inv(X)"
   ]
  },
  {
   "cell_type": "markdown",
   "metadata": {},
   "source": [
    "## Часть 3: Pandas"
   ]
  },
  {
   "cell_type": "markdown",
   "metadata": {},
   "source": [
    "#### Ответьте на вопросы о данных по авиарейсам в США за январь-апрель 2008 года.\n",
    "\n",
    "Данные: http://stat-computing.org/dataexpo/2009/2008.csv.bz2\n",
    "(обратите внимание, что распаковывать этот файл не обязательно — функция `pandas.read_csv` умеет читать из архивов автоматически)\n",
    "\n",
    "Описание: http://stat-computing.org/dataexpo/2009/the-data.html\n",
    "\n",
    "1. Какая из причин отмены рейса (`CancellationCode`) была самой частой? (расшифровки кодов можно найти в описании данных)\n",
    "2. Найдите среднее, минимальное и максимальное расстояние, пройденное самолетом.\n",
    "3. Не выглядит ли подозрительным минимальное пройденное расстояние? В какие дни и на каких рейсах оно было? Какое расстояние было пройдено этими же рейсами в другие дни?\n",
    "4. Из какого аэропорта было произведено больше всего вылетов? В каком городе он находится?\n",
    "5. Найдите для каждого аэропорта среднее время полета (`AirTime`) по всем вылетевшим из него рейсам. Какой аэропорт имеет наибольшее значение этого показателя?\n",
    "6. Найдите аэропорт, у которого наибольшая доля задержанных (`DepDelay > 0`) рейсов. Исключите при этом из рассмотрения аэропорты, из которых было отправлено меньше 1000 рейсов (используйте функцию `filter` после `groupby`)."
   ]
  },
  {
   "cell_type": "code",
   "execution_count": 2,
   "metadata": {
    "collapsed": false
   },
   "outputs": [],
   "source": [
    "df = pd.read_csv(\"file://localhost/home/user/Downloads/2008.csv\")"
   ]
  },
  {
   "cell_type": "code",
   "execution_count": 3,
   "metadata": {
    "collapsed": false
   },
   "outputs": [
    {
     "name": "stdout",
     "output_type": "stream",
     "text": [
      "B\n",
      "726.387029425 11 4962\n",
      "         Year  Month  DayofMonth  FlightNum\n",
      "2547298  2008      5          15       4988\n",
      "4392215  2008      8          10       5572\n",
      "\n",
      "[2 rows x 4 columns]\n",
      "151771    834\n",
      "152430    834\n",
      "153088    834\n",
      "153545    834\n",
      "154096    834\n",
      "154750    834\n",
      "155308    834\n",
      "155962    834\n",
      "156627    834\n",
      "157287    834\n",
      "157747    834\n",
      "158301    834\n",
      "158958    834\n",
      "159514    834\n",
      "160169    834\n",
      "...\n",
      "6776744    903\n",
      "6776745    903\n",
      "6776746    903\n",
      "6776747    903\n",
      "6776748    903\n",
      "6776749    903\n",
      "6776750    903\n",
      "6776751    903\n",
      "6776752    903\n",
      "6776753    903\n",
      "6776754    903\n",
      "6776755    903\n",
      "6776756    903\n",
      "6776757    903\n",
      "6776758    903\n",
      "Name: Distance, Length: 225, dtype: int64\n",
      "151629    544\n",
      "152291    544\n",
      "152949    544\n",
      "153419    544\n",
      "153963    544\n",
      "154611    544\n",
      "155185    544\n",
      "155823    544\n",
      "156485    544\n",
      "157148    544\n",
      "157622    544\n",
      "158169    544\n",
      "158819    544\n",
      "159392    544\n",
      "160029    544\n",
      "...\n",
      "6771549    134\n",
      "6771550    134\n",
      "6771551    134\n",
      "6771552    134\n",
      "6771553    134\n",
      "6771554    134\n",
      "6771555    134\n",
      "6771556    134\n",
      "6771557    134\n",
      "6771558    134\n",
      "6771559    669\n",
      "6771560    508\n",
      "6771561    508\n",
      "6771562    508\n",
      "6771563    508\n",
      "Name: Distance, Length: 826, dtype: int64\n",
      "ATL\n",
      "880    Atlanta\n",
      "Name: city, dtype: object\n",
      "Origin\n",
      "ABE        89.057518\n",
      "ABI        36.789977\n",
      "ABQ        91.657166\n",
      "ABY        35.379759\n",
      "ACK        50.692124\n",
      "ACT        29.875977\n",
      "ACV        58.850658\n",
      "ACY       108.848214\n",
      "ADK       151.423913\n",
      "ADQ        41.987934\n",
      "AEX        68.543556\n",
      "AGS        36.933814\n",
      "AKN        37.321429\n",
      "ALB       101.860527\n",
      "ALO        36.373134\n",
      "...\n",
      "TUP       42.900000\n",
      "TUS       92.801864\n",
      "TVC       49.328770\n",
      "TWF       41.316563\n",
      "TXK       43.796312\n",
      "TYR       30.372715\n",
      "TYS       81.030894\n",
      "VLD       45.158351\n",
      "VPS       75.231116\n",
      "WRG       16.741606\n",
      "WYS       62.961977\n",
      "XNA       84.253180\n",
      "YAK       36.372159\n",
      "YKM       80.697329\n",
      "YUM       48.876952\n",
      "Name: AirTime, Length: 303, dtype: float64\n",
      "SJU 203.850842697\n",
      "Origin\n",
      "ABE        4807\n",
      "ABI        2660\n",
      "ABQ       41146\n",
      "ABY        1095\n",
      "ACK         457\n",
      "ACT        1993\n",
      "ACV        3714\n",
      "ACY         116\n",
      "ADK         102\n",
      "ADQ         706\n",
      "AEX        2330\n",
      "AGS        2403\n",
      "AKN         116\n",
      "ALB       13474\n",
      "ALO         323\n",
      "...\n",
      "TUP          10\n",
      "TUS       26661\n",
      "TVC        4262\n",
      "TWF        1813\n",
      "TXK        1250\n",
      "TYR        1585\n",
      "TYS       14004\n",
      "VLD         938\n",
      "VPS        6820\n",
      "WRG         727\n",
      "WYS         264\n",
      "XNA       14112\n",
      "YAK         725\n",
      "YKM         340\n",
      "YUM        3871\n",
      "Length: 303, dtype: int64\n"
     ]
    }
   ],
   "source": [
    "# 1\n",
    "df2 = df.loc[df['Cancelled'] == 1]\n",
    "print df2['CancellationCode'].value_counts().idxmax()\n",
    "\n",
    "# 2\n",
    "print df['Distance'].mean(), df['Distance'].min(), df['Distance'].max()\n",
    "\n",
    "# 3\n",
    "df2 = df.loc[df['Distance'] == 11]\n",
    "print df2[[\"Year\", \"Month\", \"DayofMonth\", \"FlightNum\"]]\n",
    "df2 = df.loc[df[\"FlightNum\"] == 4988]\n",
    "print df2[\"Distance\"]\n",
    "df2 = df.loc[df[\"FlightNum\"] == 5572]\n",
    "print df2[\"Distance\"]\n",
    "\n",
    "# 4\n",
    "print df['Origin'].value_counts().idxmax()\n",
    "df2 = pd.read_csv(\"file://localhost/home/user/Downloads/airports.csv\")\n",
    "print df2.loc[df2['iata'] == 'ATL']['city']\n",
    "\n",
    "# 5\n",
    "df2 = df.groupby(['Origin'])['AirTime'].mean()\n",
    "print df2\n",
    "print df2.idxmax(), df2.max()\n",
    "\n",
    "# 6\n",
    "print df2 = df.groupby(['Origin']).size()\n",
    "    df2.filter(len(df2) < 1000)\n",
    "    "
   ]
  }
 ],
 "metadata": {
  "kernelspec": {
   "display_name": "Python 2",
   "language": "python",
   "name": "python2"
  },
  "language_info": {
   "codemirror_mode": {
    "name": "ipython",
    "version": 2
   },
   "file_extension": ".py",
   "mimetype": "text/x-python",
   "name": "python",
   "nbconvert_exporter": "python",
   "pygments_lexer": "ipython2",
   "version": "2.7.6"
  }
 },
 "nbformat": 4,
 "nbformat_minor": 0
}
